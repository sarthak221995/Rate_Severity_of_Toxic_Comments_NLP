{
 "cells": [
  {
   "cell_type": "markdown",
   "id": "090c496c",
   "metadata": {
    "papermill": {
     "duration": 0.018155,
     "end_time": "2022-01-10T04:46:31.238478",
     "exception": false,
     "start_time": "2022-01-10T04:46:31.220323",
     "status": "completed"
    },
    "tags": []
   },
   "source": [
    "# Import Dependencies"
   ]
  },
  {
   "cell_type": "code",
   "execution_count": 1,
   "id": "89da3dea",
   "metadata": {
    "execution": {
     "iopub.execute_input": "2022-01-10T04:46:31.277144Z",
     "iopub.status.busy": "2022-01-10T04:46:31.275962Z",
     "iopub.status.idle": "2022-01-10T04:46:32.621842Z",
     "shell.execute_reply": "2022-01-10T04:46:32.621055Z",
     "shell.execute_reply.started": "2022-01-10T04:36:21.170063Z"
    },
    "papermill": {
     "duration": 1.365972,
     "end_time": "2022-01-10T04:46:32.622009",
     "exception": false,
     "start_time": "2022-01-10T04:46:31.256037",
     "status": "completed"
    },
    "tags": []
   },
   "outputs": [],
   "source": [
    "import pandas as pd\n",
    "import numpy as np\n",
    "from sklearn.ensemble import RandomForestRegressor\n",
    "from sklearn.feature_extraction.text import TfidfVectorizer\n",
    "from sklearn.linear_model import Ridge, LinearRegression\n",
    "from sklearn.pipeline import Pipeline\n",
    "import scipy\n",
    "pd.options.display.max_colwidth=300"
   ]
  },
  {
   "cell_type": "markdown",
   "id": "349f7dfb",
   "metadata": {
    "papermill": {
     "duration": 0.016999,
     "end_time": "2022-01-10T04:46:32.658404",
     "exception": false,
     "start_time": "2022-01-10T04:46:32.641405",
     "status": "completed"
    },
    "tags": []
   },
   "source": [
    "# Read Jigsaw Toxic Comment Classification DataBase"
   ]
  },
  {
   "cell_type": "code",
   "execution_count": 2,
   "id": "84d671c6",
   "metadata": {
    "execution": {
     "iopub.execute_input": "2022-01-10T04:46:32.696970Z",
     "iopub.status.busy": "2022-01-10T04:46:32.695985Z",
     "iopub.status.idle": "2022-01-10T04:46:35.204133Z",
     "shell.execute_reply": "2022-01-10T04:46:35.204694Z",
     "shell.execute_reply.started": "2022-01-10T04:36:22.687835Z"
    },
    "papermill": {
     "duration": 2.528953,
     "end_time": "2022-01-10T04:46:35.204866",
     "exception": false,
     "start_time": "2022-01-10T04:46:32.675913",
     "status": "completed"
    },
    "tags": []
   },
   "outputs": [
    {
     "name": "stdout",
     "output_type": "stream",
     "text": [
      "(159571, 8)\n",
      "(30108, 3)\n",
      "(7537, 2)\n"
     ]
    }
   ],
   "source": [
    "df = pd.read_csv(\"../input/jigsaw-toxic-comment-classification-challenge/train.csv\")\n",
    "print(df.shape)\n",
    "df_val = pd.read_csv(\"../input/jigsaw-toxic-severity-rating/validation_data.csv\")\n",
    "print(df_val.shape)\n",
    "df_sub = pd.read_csv(\"../input/jigsaw-toxic-severity-rating/comments_to_score.csv\")\n",
    "print(df_sub.shape)"
   ]
  },
  {
   "cell_type": "code",
   "execution_count": 3,
   "id": "87aa9bf8",
   "metadata": {
    "execution": {
     "iopub.execute_input": "2022-01-10T04:46:35.246316Z",
     "iopub.status.busy": "2022-01-10T04:46:35.245598Z",
     "iopub.status.idle": "2022-01-10T04:46:35.247841Z",
     "shell.execute_reply": "2022-01-10T04:46:35.247364Z",
     "shell.execute_reply.started": "2022-01-10T04:27:06.653107Z"
    },
    "papermill": {
     "duration": 0.024757,
     "end_time": "2022-01-10T04:46:35.247977",
     "exception": false,
     "start_time": "2022-01-10T04:46:35.223220",
     "status": "completed"
    },
    "tags": []
   },
   "outputs": [],
   "source": [
    "# df_temp = pd.read_csv(\"../input/jigsaw-toxic-comment-classification-challenge/train.csv\")\n",
    "\n",
    "# # Give 2X Weight To Toxic Comments, followed by 3X Weight to Severe Toxic Comments\n",
    "# df_temp['severe_toxic'] = df_temp.severe_toxic * 1.5\n",
    "# df_temp['insult'] = df_temp.insult * 0.1\n",
    "# df_temp['identity_hate'] = df_temp.identity_hate * 1.5\n",
    "# df_temp['toxic'] = df_temp.toxic * 1\n",
    "# df_temp['threat'] = df_temp.threat * 1.5\n",
    "# df_temp['obscene'] = df_temp.obscene * 0.16\n",
    "\n",
    "# df_temp['y'] = df_temp[['toxic', 'severe_toxic', 'obscene', 'threat', 'insult', 'identity_hate']].mean(axis=1)\n",
    "\n",
    "# print(\"severe_toxic\",np.mean(df_temp[df_temp['severe_toxic']==1.5]['y']))\n",
    "# print(\"toxic\",np.mean(df_temp[df_temp['toxic']==1]['y']))\n",
    "# print(\"insult\",np.mean(df_temp[df_temp['insult']==0.1]['y']))\n",
    "# print(\"identity_hate\",np.mean(df_temp[df_temp['identity_hate']==1.5]['y']))\n",
    "# print(\"threat\",np.mean(df_temp[df_temp['threat']==1.5]['y']))\n",
    "# print(\"obscene\",np.mean(df_temp[df_temp['obscene']==0.16]['y']))"
   ]
  },
  {
   "cell_type": "code",
   "execution_count": 4,
   "id": "6b62e551",
   "metadata": {
    "execution": {
     "iopub.execute_input": "2022-01-10T04:46:35.297393Z",
     "iopub.status.busy": "2022-01-10T04:46:35.286346Z",
     "iopub.status.idle": "2022-01-10T04:46:35.335220Z",
     "shell.execute_reply": "2022-01-10T04:46:35.334609Z",
     "shell.execute_reply.started": "2022-01-10T04:36:25.738656Z"
    },
    "papermill": {
     "duration": 0.069248,
     "end_time": "2022-01-10T04:46:35.335366",
     "exception": false,
     "start_time": "2022-01-10T04:46:35.266118",
     "status": "completed"
    },
    "tags": []
   },
   "outputs": [],
   "source": [
    "# Give 2X Weight To Toxic Comments, followed by 3X Weight to Severe Toxic Comments\n",
    "df['severe_toxic'] = df.severe_toxic * 1.5\n",
    "df['insult'] = df.insult * 0.1\n",
    "df['identity_hate'] = df.identity_hate * 1.5\n",
    "df['toxic'] = df.toxic * 1\n",
    "df['threat'] = df.threat * 1.5\n",
    "df['obscene'] = df.obscene * 0.16\n",
    "\n",
    "df['y'] = df[['toxic', 'severe_toxic', 'obscene', 'threat', 'insult', 'identity_hate']].mean(axis=1)"
   ]
  },
  {
   "cell_type": "code",
   "execution_count": 5,
   "id": "e14bd1d1",
   "metadata": {
    "execution": {
     "iopub.execute_input": "2022-01-10T04:46:35.382964Z",
     "iopub.status.busy": "2022-01-10T04:46:35.381499Z",
     "iopub.status.idle": "2022-01-10T04:46:35.407917Z",
     "shell.execute_reply": "2022-01-10T04:46:35.407069Z",
     "shell.execute_reply.started": "2022-01-10T04:36:25.797361Z"
    },
    "papermill": {
     "duration": 0.054339,
     "end_time": "2022-01-10T04:46:35.408063",
     "exception": false,
     "start_time": "2022-01-10T04:46:35.353724",
     "status": "completed"
    },
    "tags": []
   },
   "outputs": [
    {
     "name": "stdout",
     "output_type": "stream",
     "text": [
      "severe_toxic 0.5229696969697052\n",
      "toxic 0.24318425526348925\n",
      "insult 0.282965172866174\n",
      "identity_hate 0.5109276393831556\n",
      "threat 0.5438842398884242\n",
      "obscene 0.2794875133152053\n"
     ]
    }
   ],
   "source": [
    "print(\"severe_toxic\",np.mean(df[df['severe_toxic']==1.5]['y']))\n",
    "print(\"toxic\",np.mean(df[df['toxic']==1]['y']))\n",
    "print(\"insult\",np.mean(df[df['insult']==0.1]['y']))\n",
    "print(\"identity_hate\",np.mean(df[df['identity_hate']==1.5]['y']))\n",
    "print(\"threat\",np.mean(df[df['threat']==1.5]['y']))\n",
    "print(\"obscene\",np.mean(df[df['obscene']==0.16]['y']))"
   ]
  },
  {
   "cell_type": "code",
   "execution_count": 6,
   "id": "b03301ae",
   "metadata": {
    "execution": {
     "iopub.execute_input": "2022-01-10T04:46:35.454567Z",
     "iopub.status.busy": "2022-01-10T04:46:35.447733Z",
     "iopub.status.idle": "2022-01-10T04:46:35.470238Z",
     "shell.execute_reply": "2022-01-10T04:46:35.470775Z",
     "shell.execute_reply.started": "2022-01-10T04:36:25.837547Z"
    },
    "papermill": {
     "duration": 0.0443,
     "end_time": "2022-01-10T04:46:35.470949",
     "exception": false,
     "start_time": "2022-01-10T04:46:35.426649",
     "status": "completed"
    },
    "tags": []
   },
   "outputs": [],
   "source": [
    "# Remove All Columns Leaving Comment Tex and Y\n",
    "df = df[['comment_text', 'y']].rename(columns={'comment_text': 'text'})"
   ]
  },
  {
   "cell_type": "code",
   "execution_count": 7,
   "id": "34bd6245",
   "metadata": {
    "execution": {
     "iopub.execute_input": "2022-01-10T04:46:35.514433Z",
     "iopub.status.busy": "2022-01-10T04:46:35.513757Z",
     "iopub.status.idle": "2022-01-10T04:46:35.554534Z",
     "shell.execute_reply": "2022-01-10T04:46:35.553884Z",
     "shell.execute_reply.started": "2022-01-10T04:36:25.869633Z"
    },
    "papermill": {
     "duration": 0.065413,
     "end_time": "2022-01-10T04:46:35.554690",
     "exception": false,
     "start_time": "2022-01-10T04:46:35.489277",
     "status": "completed"
    },
    "tags": []
   },
   "outputs": [
    {
     "name": "stdout",
     "output_type": "stream",
     "text": [
      "(40562, 2)\n"
     ]
    }
   ],
   "source": [
    "# Reduce Rows with No Toxicity as our key focus area is the reviews with toxicity\n",
    "df = pd.concat([df[df.y>0] , \n",
    "                df[df.y==0].sample(int(len(df[df.y>0])*1.5)) ], axis=0).sample(frac=1)\n",
    "\n",
    "print(df.shape)"
   ]
  },
  {
   "cell_type": "code",
   "execution_count": 8,
   "id": "8dd750f0",
   "metadata": {
    "execution": {
     "iopub.execute_input": "2022-01-10T04:46:35.607640Z",
     "iopub.status.busy": "2022-01-10T04:46:35.606807Z",
     "iopub.status.idle": "2022-01-10T04:46:35.610491Z",
     "shell.execute_reply": "2022-01-10T04:46:35.610968Z",
     "shell.execute_reply.started": "2022-01-10T04:36:25.929700Z"
    },
    "papermill": {
     "duration": 0.03781,
     "end_time": "2022-01-10T04:46:35.611150",
     "exception": false,
     "start_time": "2022-01-10T04:46:35.573340",
     "status": "completed"
    },
    "tags": []
   },
   "outputs": [
    {
     "data": {
      "text/plain": [
       "count    40562.000000\n",
       "mean         0.093070\n",
       "std          0.142327\n",
       "min          0.000000\n",
       "25%          0.000000\n",
       "50%          0.000000\n",
       "75%          0.166667\n",
       "max          0.960000\n",
       "Name: y, dtype: float64"
      ]
     },
     "execution_count": 8,
     "metadata": {},
     "output_type": "execute_result"
    }
   ],
   "source": [
    "df['y'].describe()"
   ]
  },
  {
   "cell_type": "markdown",
   "id": "7e683a5c",
   "metadata": {
    "papermill": {
     "duration": 0.018401,
     "end_time": "2022-01-10T04:46:35.648416",
     "exception": false,
     "start_time": "2022-01-10T04:46:35.630015",
     "status": "completed"
    },
    "tags": []
   },
   "source": [
    "# Modeling"
   ]
  },
  {
   "cell_type": "code",
   "execution_count": 9,
   "id": "ca9dc3b1",
   "metadata": {
    "execution": {
     "iopub.execute_input": "2022-01-10T04:46:35.689809Z",
     "iopub.status.busy": "2022-01-10T04:46:35.688844Z",
     "iopub.status.idle": "2022-01-10T04:46:35.693497Z",
     "shell.execute_reply": "2022-01-10T04:46:35.693941Z",
     "shell.execute_reply.started": "2022-01-10T04:36:26.106592Z"
    },
    "papermill": {
     "duration": 0.026915,
     "end_time": "2022-01-10T04:46:35.694125",
     "exception": false,
     "start_time": "2022-01-10T04:46:35.667210",
     "status": "completed"
    },
    "tags": []
   },
   "outputs": [],
   "source": [
    "pipeline = Pipeline(\n",
    "    [\n",
    "        (\"vect\", TfidfVectorizer(min_df= 3, max_df=0.5, analyzer = 'char_wb', ngram_range = (3,5))),\n",
    "        (\"clf\", Ridge()),\n",
    "    ]\n",
    ")"
   ]
  },
  {
   "cell_type": "code",
   "execution_count": 10,
   "id": "5a6818ce",
   "metadata": {
    "execution": {
     "iopub.execute_input": "2022-01-10T04:46:35.776577Z",
     "iopub.status.busy": "2022-01-10T04:46:35.734545Z",
     "iopub.status.idle": "2022-01-10T04:47:18.054808Z",
     "shell.execute_reply": "2022-01-10T04:47:18.055726Z",
     "shell.execute_reply.started": "2022-01-10T04:36:27.890706Z"
    },
    "papermill": {
     "duration": 42.343113,
     "end_time": "2022-01-10T04:47:18.056012",
     "exception": false,
     "start_time": "2022-01-10T04:46:35.712899",
     "status": "completed"
    },
    "tags": []
   },
   "outputs": [
    {
     "data": {
      "text/plain": [
       "Pipeline(steps=[('vect',\n",
       "                 TfidfVectorizer(analyzer='char_wb', max_df=0.5, min_df=3,\n",
       "                                 ngram_range=(3, 5))),\n",
       "                ('clf', Ridge())])"
      ]
     },
     "execution_count": 10,
     "metadata": {},
     "output_type": "execute_result"
    }
   ],
   "source": [
    "# Train the pipeline\n",
    "pipeline.fit(df['text'], df['y'])"
   ]
  },
  {
   "cell_type": "markdown",
   "id": "91f4a6d6",
   "metadata": {
    "papermill": {
     "duration": 0.032277,
     "end_time": "2022-01-10T04:47:18.123276",
     "exception": false,
     "start_time": "2022-01-10T04:47:18.090999",
     "status": "completed"
    },
    "tags": []
   },
   "source": [
    "# Validate the pipeline "
   ]
  },
  {
   "cell_type": "code",
   "execution_count": 11,
   "id": "9edcd04b",
   "metadata": {
    "execution": {
     "iopub.execute_input": "2022-01-10T04:47:18.208098Z",
     "iopub.status.busy": "2022-01-10T04:47:18.171754Z",
     "iopub.status.idle": "2022-01-10T04:48:13.605897Z",
     "shell.execute_reply": "2022-01-10T04:48:13.605276Z",
     "shell.execute_reply.started": "2022-01-10T04:37:13.986667Z"
    },
    "papermill": {
     "duration": 55.463587,
     "end_time": "2022-01-10T04:48:13.606053",
     "exception": false,
     "start_time": "2022-01-10T04:47:18.142466",
     "status": "completed"
    },
    "tags": []
   },
   "outputs": [],
   "source": [
    "p1 = pipeline.predict(df_val['less_toxic'])\n",
    "p2 = pipeline.predict(df_val['more_toxic'])"
   ]
  },
  {
   "cell_type": "code",
   "execution_count": 12,
   "id": "09a0fd4c",
   "metadata": {
    "execution": {
     "iopub.execute_input": "2022-01-10T04:48:13.650345Z",
     "iopub.status.busy": "2022-01-10T04:48:13.649199Z",
     "iopub.status.idle": "2022-01-10T04:48:13.654283Z",
     "shell.execute_reply": "2022-01-10T04:48:13.653445Z",
     "shell.execute_reply.started": "2022-01-10T04:38:12.472025Z"
    },
    "papermill": {
     "duration": 0.028685,
     "end_time": "2022-01-10T04:48:13.654433",
     "exception": false,
     "start_time": "2022-01-10T04:48:13.625748",
     "status": "completed"
    },
    "tags": []
   },
   "outputs": [
    {
     "data": {
      "text/plain": [
       "'Validation Accuracy is 67.75'"
      ]
     },
     "execution_count": 12,
     "metadata": {},
     "output_type": "execute_result"
    }
   ],
   "source": [
    "# Prev Version: 65.82\n",
    "f'Validation Accuracy is { np.round((p1 < p2).mean() * 100,2)}'"
   ]
  },
  {
   "cell_type": "markdown",
   "id": "3fc6b787",
   "metadata": {
    "papermill": {
     "duration": 0.019194,
     "end_time": "2022-01-10T04:48:13.693510",
     "exception": false,
     "start_time": "2022-01-10T04:48:13.674316",
     "status": "completed"
    },
    "tags": []
   },
   "source": [
    "Experiment : Assing More Toxic Comments Weight to "
   ]
  },
  {
   "cell_type": "code",
   "execution_count": 13,
   "id": "85938781",
   "metadata": {
    "execution": {
     "iopub.execute_input": "2022-01-10T04:48:13.737759Z",
     "iopub.status.busy": "2022-01-10T04:48:13.737069Z",
     "iopub.status.idle": "2022-01-10T04:48:13.739590Z",
     "shell.execute_reply": "2022-01-10T04:48:13.738906Z",
     "shell.execute_reply.started": "2022-01-09T17:56:13.753685Z"
    },
    "papermill": {
     "duration": 0.026856,
     "end_time": "2022-01-10T04:48:13.739907",
     "exception": false,
     "start_time": "2022-01-10T04:48:13.713051",
     "status": "completed"
    },
    "tags": []
   },
   "outputs": [],
   "source": [
    "# df_val['p1'] = p1\n",
    "# df_val['p2'] = p2\n",
    "# df_val['diff'] = np.abs(p2 - p1)\n",
    "\n",
    "# df_val['correct'] = (p1 < p2).astype('int')\n",
    "\n",
    "# df_val_incorrect_preds_l = pd.DataFrame()\n",
    "# df_val_incorrect_preds_l['text'] = df_val[df_val['correct']==0]['less_toxic']\n",
    "# df_val_incorrect_preds_l['y'] = 0.2\n",
    "\n",
    "# df_val_incorrect_preds_m = pd.DataFrame()\n",
    "# df_val_incorrect_preds_m['text'] = df_val[df_val['correct']==0]['more_toxic']\n",
    "# df_val_incorrect_preds_m['y'] = 0.7\n",
    "\n",
    "# df_v2 = pd.concat([df , df_val_incorrect_preds_l, df_val_incorrect_preds_m])\n",
    "\n",
    "# print(df_v2.shape)\n",
    "\n",
    "# Train the pipeline with v2 data\n",
    "# pipeline.fit(df['text'], df['y'])\n",
    "\n",
    "# p1 = pipeline.predict(df_val['less_toxic'])\n",
    "# p2 = pipeline.predict(df_val['more_toxic'])\n",
    "\n",
    "# f'Validation Accuracy is { np.round((p1 < p2).mean() * 100,2)}'"
   ]
  },
  {
   "cell_type": "markdown",
   "id": "81ff61ae",
   "metadata": {
    "papermill": {
     "duration": 0.019152,
     "end_time": "2022-01-10T04:48:13.779204",
     "exception": false,
     "start_time": "2022-01-10T04:48:13.760052",
     "status": "completed"
    },
    "tags": []
   },
   "source": [
    "# Predict on test data "
   ]
  },
  {
   "cell_type": "code",
   "execution_count": 14,
   "id": "0af8a46a",
   "metadata": {
    "execution": {
     "iopub.execute_input": "2022-01-10T04:48:13.855692Z",
     "iopub.status.busy": "2022-01-10T04:48:13.845214Z",
     "iopub.status.idle": "2022-01-10T04:48:21.062326Z",
     "shell.execute_reply": "2022-01-10T04:48:21.061513Z",
     "shell.execute_reply.started": "2022-01-10T04:38:12.481841Z"
    },
    "papermill": {
     "duration": 7.263224,
     "end_time": "2022-01-10T04:48:21.062527",
     "exception": false,
     "start_time": "2022-01-10T04:48:13.799303",
     "status": "completed"
    },
    "tags": []
   },
   "outputs": [],
   "source": [
    "# Predict using pipeline\n",
    "\n",
    "sub_preds = pipeline.predict(df_sub['text'])\n",
    "\n",
    "df_sub['score'] = sub_preds"
   ]
  },
  {
   "cell_type": "markdown",
   "id": "c1816034",
   "metadata": {
    "papermill": {
     "duration": 0.026528,
     "end_time": "2022-01-10T04:48:21.113816",
     "exception": false,
     "start_time": "2022-01-10T04:48:21.087288",
     "status": "completed"
    },
    "tags": []
   },
   "source": [
    "## Correct the rank ordering"
   ]
  },
  {
   "cell_type": "code",
   "execution_count": 15,
   "id": "7de767fc",
   "metadata": {
    "execution": {
     "iopub.execute_input": "2022-01-10T04:48:21.159016Z",
     "iopub.status.busy": "2022-01-10T04:48:21.158380Z",
     "iopub.status.idle": "2022-01-10T04:48:21.171202Z",
     "shell.execute_reply": "2022-01-10T04:48:21.171728Z",
     "shell.execute_reply.started": "2022-01-10T04:38:20.170407Z"
    },
    "papermill": {
     "duration": 0.037772,
     "end_time": "2022-01-10T04:48:21.171896",
     "exception": false,
     "start_time": "2022-01-10T04:48:21.134124",
     "status": "completed"
    },
    "tags": []
   },
   "outputs": [
    {
     "name": "stdout",
     "output_type": "stream",
     "text": [
      "7537\n"
     ]
    }
   ],
   "source": [
    "# Rank the predictions \n",
    "\n",
    "df_sub['score']  = scipy.stats.rankdata(df_sub['score'], method='ordinal')\n",
    "\n",
    "print(df_sub['score'].rank().nunique())"
   ]
  },
  {
   "cell_type": "code",
   "execution_count": 16,
   "id": "bcd381ee",
   "metadata": {
    "execution": {
     "iopub.execute_input": "2022-01-10T04:48:21.217620Z",
     "iopub.status.busy": "2022-01-10T04:48:21.216988Z",
     "iopub.status.idle": "2022-01-10T04:48:21.239545Z",
     "shell.execute_reply": "2022-01-10T04:48:21.238975Z",
     "shell.execute_reply.started": "2022-01-09T18:02:04.217121Z"
    },
    "papermill": {
     "duration": 0.048099,
     "end_time": "2022-01-10T04:48:21.239682",
     "exception": false,
     "start_time": "2022-01-10T04:48:21.191583",
     "status": "completed"
    },
    "tags": []
   },
   "outputs": [],
   "source": [
    "df_sub[['comment_id', 'score']].to_csv(\"submission.csv\", index=False)"
   ]
  }
 ],
 "metadata": {
  "kernelspec": {
   "display_name": "Python 3",
   "language": "python",
   "name": "python3"
  },
  "language_info": {
   "codemirror_mode": {
    "name": "ipython",
    "version": 3
   },
   "file_extension": ".py",
   "mimetype": "text/x-python",
   "name": "python",
   "nbconvert_exporter": "python",
   "pygments_lexer": "ipython3",
   "version": "3.7.10"
  },
  "papermill": {
   "default_parameters": {},
   "duration": 120.343558,
   "end_time": "2022-01-10T04:48:21.969575",
   "environment_variables": {},
   "exception": null,
   "input_path": "__notebook__.ipynb",
   "output_path": "__notebook__.ipynb",
   "parameters": {},
   "start_time": "2022-01-10T04:46:21.626017",
   "version": "2.3.3"
  }
 },
 "nbformat": 4,
 "nbformat_minor": 5
}
