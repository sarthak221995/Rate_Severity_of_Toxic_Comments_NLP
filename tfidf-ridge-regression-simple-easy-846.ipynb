{
 "cells": [
  {
   "cell_type": "markdown",
   "id": "3359f7a3",
   "metadata": {
    "papermill": {
     "duration": 0.032186,
     "end_time": "2022-01-12T04:55:34.946871",
     "exception": false,
     "start_time": "2022-01-12T04:55:34.914685",
     "status": "completed"
    },
    "tags": []
   },
   "source": [
    "# Import Dependencies"
   ]
  },
  {
   "cell_type": "code",
   "execution_count": 1,
   "id": "7414e660",
   "metadata": {
    "execution": {
     "iopub.execute_input": "2022-01-12T04:55:35.007114Z",
     "iopub.status.busy": "2022-01-12T04:55:35.006392Z",
     "iopub.status.idle": "2022-01-12T04:55:36.645650Z",
     "shell.execute_reply": "2022-01-12T04:55:36.644905Z",
     "shell.execute_reply.started": "2022-01-12T04:21:13.915926Z"
    },
    "papermill": {
     "duration": 1.674311,
     "end_time": "2022-01-12T04:55:36.645805",
     "exception": false,
     "start_time": "2022-01-12T04:55:34.971494",
     "status": "completed"
    },
    "tags": []
   },
   "outputs": [],
   "source": [
    "import pandas as pd\n",
    "import numpy as np\n",
    "from sklearn.ensemble import RandomForestRegressor\n",
    "from sklearn.feature_extraction.text import TfidfVectorizer\n",
    "from sklearn.linear_model import Ridge, LinearRegression\n",
    "from sklearn.pipeline import Pipeline\n",
    "from nltk.tokenize.treebank import TreebankWordTokenizer\n",
    "Ttokenizer = TreebankWordTokenizer()\n",
    "import scipy\n",
    "import multiprocessing\n",
    "pd.options.display.max_colwidth=300"
   ]
  },
  {
   "cell_type": "markdown",
   "id": "32520628",
   "metadata": {
    "papermill": {
     "duration": 0.019373,
     "end_time": "2022-01-12T04:55:36.685592",
     "exception": false,
     "start_time": "2022-01-12T04:55:36.666219",
     "status": "completed"
    },
    "tags": []
   },
   "source": [
    "# Read Jigsaw Toxic Comment Classification DataBase"
   ]
  },
  {
   "cell_type": "code",
   "execution_count": 2,
   "id": "9065a2c1",
   "metadata": {
    "execution": {
     "iopub.execute_input": "2022-01-12T04:55:36.730752Z",
     "iopub.status.busy": "2022-01-12T04:55:36.730030Z",
     "iopub.status.idle": "2022-01-12T04:55:39.676477Z",
     "shell.execute_reply": "2022-01-12T04:55:39.677107Z",
     "shell.execute_reply.started": "2022-01-12T04:21:15.231413Z"
    },
    "papermill": {
     "duration": 2.971969,
     "end_time": "2022-01-12T04:55:39.677286",
     "exception": false,
     "start_time": "2022-01-12T04:55:36.705317",
     "status": "completed"
    },
    "tags": []
   },
   "outputs": [
    {
     "name": "stdout",
     "output_type": "stream",
     "text": [
      "(159571, 8)\n",
      "(30108, 3)\n",
      "(7537, 2)\n"
     ]
    }
   ],
   "source": [
    "df = pd.read_csv(\"../input/jigsaw-toxic-comment-classification-challenge/train.csv\")\n",
    "print(df.shape)\n",
    "df_val = pd.read_csv(\"../input/jigsaw-toxic-severity-rating/validation_data.csv\")\n",
    "print(df_val.shape)\n",
    "df_sub = pd.read_csv(\"../input/jigsaw-toxic-severity-rating/comments_to_score.csv\")\n",
    "print(df_sub.shape)"
   ]
  },
  {
   "cell_type": "code",
   "execution_count": 3,
   "id": "50c67b77",
   "metadata": {
    "execution": {
     "iopub.execute_input": "2022-01-12T04:55:39.727148Z",
     "iopub.status.busy": "2022-01-12T04:55:39.726188Z",
     "iopub.status.idle": "2022-01-12T04:55:39.729089Z",
     "shell.execute_reply": "2022-01-12T04:55:39.728451Z",
     "shell.execute_reply.started": "2022-01-12T04:23:15.649860Z"
    },
    "papermill": {
     "duration": 0.030756,
     "end_time": "2022-01-12T04:55:39.729229",
     "exception": false,
     "start_time": "2022-01-12T04:55:39.698473",
     "status": "completed"
    },
    "tags": []
   },
   "outputs": [],
   "source": [
    "# Pandas multiprocessing\n",
    "def _apply_df(args):\n",
    "    df, func, kwargs = args\n",
    "    return df.apply(func, **kwargs)\n",
    "\n",
    "def apply_by_multiprocessing(df, func, **kwargs):\n",
    "    workers = kwargs.pop('workers')\n",
    "    pool = multiprocessing.Pool(processes=workers)\n",
    "    result = pool.map(_apply_df, [(d, func, kwargs)\n",
    "            for d in np.array_split(df, workers)])\n",
    "    pool.close()\n",
    "    return pd.concat(list(result))"
   ]
  },
  {
   "cell_type": "code",
   "execution_count": 4,
   "id": "d482110c",
   "metadata": {
    "execution": {
     "iopub.execute_input": "2022-01-12T04:55:39.792121Z",
     "iopub.status.busy": "2022-01-12T04:55:39.780710Z",
     "iopub.status.idle": "2022-01-12T04:55:39.795117Z",
     "shell.execute_reply": "2022-01-12T04:55:39.794448Z",
     "shell.execute_reply.started": "2022-01-12T04:21:39.986394Z"
    },
    "papermill": {
     "duration": 0.045252,
     "end_time": "2022-01-12T04:55:39.795259",
     "exception": false,
     "start_time": "2022-01-12T04:55:39.750007",
     "status": "completed"
    },
    "tags": []
   },
   "outputs": [],
   "source": [
    "symbols_to_isolate = '.,?!-;*\"…:—()%#$&_/@＼・ω+=”“[]^–>\\\\°<~•≠™ˈʊɒ∞§{}·τα❤☺ɡ|¢→̶`❥━┣┫┗Ｏ►★©―ɪ✔®\\x96\\x92●£♥➤´¹☕≈÷♡◐║▬′ɔː€۩۞†μ✒➥═☆ˌ◄½ʻπδηλσερνʃ✬ＳＵＰＥＲＩＴ☻±♍µº¾✓◾؟．⬅℅»Вав❣⋅¿¬♫ＣＭβ█▓▒░⇒⭐›¡₂₃❧▰▔◞▀▂▃▄▅▆▇↙γ̄″☹➡«φ⅓„✋：¥̲̅́∙‛◇✏▷❓❗¶˚˙）сиʿ✨。ɑ\\x80◕！％¯−ﬂﬁ₁²ʌ¼⁴⁄₄⌠♭✘╪▶☭✭♪☔☠♂☃☎✈✌✰❆☙○‣⚓年∎ℒ▪▙☏⅛ｃａｓǀ℮¸ｗ‚∼‖ℳ❄←☼⋆ʒ⊂、⅔¨͡๏⚾⚽Φ×θ￦？（℃⏩☮⚠月✊❌⭕▸■⇌☐☑⚡☄ǫ╭∩╮，例＞ʕɐ̣Δ₀✞┈╱╲▏▕┃╰▊▋╯┳┊≥☒↑☝ɹ✅☛♩☞ＡＪＢ◔◡↓♀⬆̱ℏ\\x91⠀ˤ╚↺⇤∏✾◦♬³の｜／∵∴√Ω¤☜▲↳▫‿⬇✧ｏｖｍ－２０８＇‰≤∕ˆ⚜☁'\n",
    "symbols_to_delete = '\\n🍕\\r🐵😑\\xa0\\ue014\\t\\uf818\\uf04a\\xad😢🐶️\\uf0e0😜😎👊\\u200b\\u200e😁عدويهصقأناخلىبمغر😍💖💵Е👎😀😂\\u202a\\u202c🔥😄🏻💥ᴍʏʀᴇɴᴅᴏᴀᴋʜᴜʟᴛᴄᴘʙғᴊᴡɢ😋👏שלוםבי😱‼\\x81エンジ故障\\u2009🚌ᴵ͞🌟😊😳😧🙀😐😕\\u200f👍😮😃😘אעכח💩💯⛽🚄🏼ஜ😖ᴠ🚲‐😟😈💪🙏🎯🌹😇💔😡\\x7f👌ἐὶήιὲκἀίῃἴξ🙄Ｈ😠\\ufeff\\u2028😉😤⛺🙂\\u3000تحكسة👮💙فزط😏🍾🎉😞\\u2008🏾😅😭👻😥😔😓🏽🎆🍻🍽🎶🌺🤔😪\\x08‑🐰🐇🐱🙆😨🙃💕𝘊𝘦𝘳𝘢𝘵𝘰𝘤𝘺𝘴𝘪𝘧𝘮𝘣💗💚地獄谷улкнПоАН🐾🐕😆ה🔗🚽歌舞伎🙈😴🏿🤗🇺🇸мυтѕ⤵🏆🎃😩\\u200a🌠🐟💫💰💎эпрд\\x95🖐🙅⛲🍰🤐👆🙌\\u2002💛🙁👀🙊🙉\\u2004ˢᵒʳʸᴼᴷᴺʷᵗʰᵉᵘ\\x13🚬🤓\\ue602😵άοόςέὸתמדףנרךצט😒͝🆕👅👥👄🔄🔤👉👤👶👲🔛🎓\\uf0b7\\uf04c\\x9f\\x10成都😣⏺😌🤑🌏😯ех😲Ἰᾶὁ💞🚓🔔📚🏀👐\\u202d💤🍇\\ue613小土豆🏡❔⁉\\u202f👠》कर्मा🇹🇼🌸蔡英文🌞🎲レクサス😛外国人关系Сб💋💀🎄💜🤢َِьыгя不是\\x9c\\x9d🗑\\u2005💃📣👿༼つ༽😰ḷЗз▱ц￼🤣卖温哥华议会下降你失去所有的钱加拿大坏税骗子🐝ツ🎅\\x85🍺آإشء🎵🌎͟ἔ油别克🤡🤥😬🤧й\\u2003🚀🤴ʲшчИОРФДЯМюж😝🖑ὐύύ特殊作戦群щ💨圆明园קℐ🏈😺🌍⏏ệ🍔🐮🍁🍆🍑🌮🌯🤦\\u200d𝓒𝓲𝓿𝓵안영하세요ЖљКћ🍀😫🤤ῦ我出生在了可以说普通话汉语好极🎼🕺🍸🥂🗽🎇🎊🆘🤠👩🖒🚪天一家⚲\\u2006⚭⚆⬭⬯⏖新✀╌🇫🇷🇩🇪🇮🇬🇧😷🇨🇦ХШ🌐\\x1f杀鸡给猴看ʁ𝗪𝗵𝗲𝗻𝘆𝗼𝘂𝗿𝗮𝗹𝗶𝘇𝗯𝘁𝗰𝘀𝘅𝗽𝘄𝗱📺ϖ\\u2000үսᴦᎥһͺ\\u2007հ\\u2001ɩｙｅ൦ｌƽｈ𝐓𝐡𝐞𝐫𝐮𝐝𝐚𝐃𝐜𝐩𝐭𝐢𝐨𝐧Ƅᴨןᑯ໐ΤᏧ௦Іᴑ܁𝐬𝐰𝐲𝐛𝐦𝐯𝐑𝐙𝐣𝐇𝐂𝐘𝟎ԜТᗞ౦〔Ꭻ𝐳𝐔𝐱𝟔𝟓𝐅🐋ﬃ💘💓ё𝘥𝘯𝘶💐🌋🌄🌅𝙬𝙖𝙨𝙤𝙣𝙡𝙮𝙘𝙠𝙚𝙙𝙜𝙧𝙥𝙩𝙪𝙗𝙞𝙝𝙛👺🐷ℋ𝐀𝐥𝐪🚶𝙢Ἱ🤘ͦ💸ج패티Ｗ𝙇ᵻ👂👃ɜ🎫\\uf0a7БУі🚢🚂ગુજરાતીῆ🏃𝓬𝓻𝓴𝓮𝓽𝓼☘﴾̯﴿₽\\ue807𝑻𝒆𝒍𝒕𝒉𝒓𝒖𝒂𝒏𝒅𝒔𝒎𝒗𝒊👽😙\\u200cЛ‒🎾👹⎌🏒⛸公寓养宠物吗🏄🐀🚑🤷操美𝒑𝒚𝒐𝑴🤙🐒欢迎来到阿拉斯ספ𝙫🐈𝒌𝙊𝙭𝙆𝙋𝙍𝘼𝙅ﷻ🦄巨收赢得白鬼愤怒要买额ẽ🚗🐳𝟏𝐟𝟖𝟑𝟕𝒄𝟗𝐠𝙄𝙃👇锟斤拷𝗢𝟳𝟱𝟬⦁マルハニチロ株式社⛷한국어ㄸㅓ니͜ʖ𝘿𝙔₵𝒩ℯ𝒾𝓁𝒶𝓉𝓇𝓊𝓃𝓈𝓅ℴ𝒻𝒽𝓀𝓌𝒸𝓎𝙏ζ𝙟𝘃𝗺𝟮𝟭𝟯𝟲👋🦊多伦🐽🎻🎹⛓🏹🍷🦆为和中友谊祝贺与其想象对法如直接问用自己猜本传教士没积唯认识基督徒曾经让相信耶稣复活死怪他但当们聊些政治题时候战胜因圣把全堂结婚孩恐惧且栗谓这样还♾🎸🤕🤒⛑🎁批判检讨🏝🦁🙋😶쥐스탱트뤼도석유가격인상이경제황을렵게만들지않록잘관리해야합다캐나에서대마초와화약금의품런성분갈때는반드시허된사용🔫👁凸ὰ💲🗯𝙈Ἄ𝒇𝒈𝒘𝒃𝑬𝑶𝕾𝖙𝖗𝖆𝖎𝖌𝖍𝖕𝖊𝖔𝖑𝖉𝖓𝖐𝖜𝖞𝖚𝖇𝕿𝖘𝖄𝖛𝖒𝖋𝖂𝕴𝖟𝖈𝕸👑🚿💡知彼百\\uf005𝙀𝒛𝑲𝑳𝑾𝒋𝟒😦𝙒𝘾𝘽🏐𝘩𝘨ὼṑ𝑱𝑹𝑫𝑵𝑪🇰🇵👾ᓇᒧᔭᐃᐧᐦᑳᐨᓃᓂᑲᐸᑭᑎᓀᐣ🐄🎈🔨🐎🤞🐸💟🎰🌝🛳点击查版🍭𝑥𝑦𝑧ＮＧ👣\\uf020っ🏉ф💭🎥Ξ🐴👨🤳🦍\\x0b🍩𝑯𝒒😗𝟐🏂👳🍗🕉🐲چی𝑮𝗕𝗴🍒ꜥⲣⲏ🐑⏰鉄リ事件ї💊「」\\uf203\\uf09a\\uf222\\ue608\\uf202\\uf099\\uf469\\ue607\\uf410\\ue600燻製シ虚偽屁理屈Г𝑩𝑰𝒀𝑺🌤𝗳𝗜𝗙𝗦𝗧🍊ὺἈἡχῖΛ⤏🇳𝒙ψՁմեռայինրւդձ冬至ὀ𝒁🔹🤚🍎𝑷🐂💅𝘬𝘱𝘸𝘷𝘐𝘭𝘓𝘖𝘹𝘲𝘫کΒώ💢ΜΟΝΑΕ🇱♲𝝈↴💒⊘Ȼ🚴🖕🖤🥘📍👈➕🚫🎨🌑🐻𝐎𝐍𝐊𝑭🤖🎎😼🕷ｇｒｎｔｉｄｕｆｂｋ𝟰🇴🇭🇻🇲𝗞𝗭𝗘𝗤👼📉🍟🍦🌈🔭《🐊🐍\\uf10aლڡ🐦\\U0001f92f\\U0001f92a🐡💳ἱ🙇𝗸𝗟𝗠𝗷🥜さようなら🔼'\n",
    "CONTRACTION_MAPPING = {\"ain't\": \"is not\", \"aren't\": \"are not\",\"can't\": \"cannot\", \"'cause\": \"because\", \"could've\": \"could have\", \"couldn't\": \"could not\", \"didn't\": \"did not\",  \"doesn't\": \"does not\", \"don't\": \"do not\", \"hadn't\": \"had not\", \"hasn't\": \"has not\", \"haven't\": \"have not\", \"he'd\": \"he would\",\"he'll\": \"he will\", \"he's\": \"he is\", \"how'd\": \"how did\", \"how'd'y\": \"how do you\", \"how'll\": \"how will\", \"how's\": \"how is\",  \"I'd\": \"I would\", \"I'd've\": \"I would have\", \"I'll\": \"I will\", \"I'll've\": \"I will have\",\"I'm\": \"I am\", \"I've\": \"I have\", \"i'd\": \"i would\", \"i'd've\": \"i would have\", \"i'll\": \"i will\",  \"i'll've\": \"i will have\",\"i'm\": \"i am\", \"i've\": \"i have\", \"isn't\": \"is not\", \"it'd\": \"it would\", \"it'd've\": \"it would have\", \"it'll\": \"it will\", \"it'll've\": \"it will have\",\"it's\": \"it is\", \"let's\": \"let us\", \"ma'am\": \"madam\", \"mayn't\": \"may not\", \"might've\": \"might have\",\"mightn't\": \"might not\",\"mightn't've\": \"might not have\", \"must've\": \"must have\", \"mustn't\": \"must not\", \"mustn't've\": \"must not have\", \"needn't\": \"need not\", \"needn't've\": \"need not have\",\"o'clock\": \"of the clock\", \"oughtn't\": \"ought not\", \"oughtn't've\": \"ought not have\", \"shan't\": \"shall not\", \"sha'n't\": \"shall not\", \"shan't've\": \"shall not have\", \"she'd\": \"she would\", \"she'd've\": \"she would have\", \"she'll\": \"she will\", \"she'll've\": \"she will have\", \"she's\": \"she is\", \"should've\": \"should have\", \"shouldn't\": \"should not\", \"shouldn't've\": \"should not have\", \"so've\": \"so have\",\"so's\": \"so as\", \"this's\": \"this is\",\"that'd\": \"that would\", \"that'd've\": \"that would have\", \"that's\": \"that is\", \"there'd\": \"there would\", \"there'd've\": \"there would have\", \"there's\": \"there is\", \"here's\": \"here is\",\"they'd\": \"they would\", \"they'd've\": \"they would have\", \"they'll\": \"they will\", \"they'll've\": \"they will have\", \"they're\": \"they are\", \"they've\": \"they have\", \"to've\": \"to have\", \"wasn't\": \"was not\", \"we'd\": \"we would\", \"we'd've\": \"we would have\", \"we'll\": \"we will\", \"we'll've\": \"we will have\", \"we're\": \"we are\", \"we've\": \"we have\", \"weren't\": \"were not\", \"what'll\": \"what will\", \"what'll've\": \"what will have\", \"what're\": \"what are\",  \"what's\": \"what is\", \"what've\": \"what have\", \"when's\": \"when is\", \"when've\": \"when have\", \"where'd\": \"where did\", \"where's\": \"where is\", \"where've\": \"where have\", \"who'll\": \"who will\", \"who'll've\": \"who will have\", \"who's\": \"who is\", \"who've\": \"who have\", \"why's\": \"why is\", \"why've\": \"why have\", \"will've\": \"will have\", \"won't\": \"will not\", \"won't've\": \"will not have\", \"would've\": \"would have\", \"wouldn't\": \"would not\", \"wouldn't've\": \"would not have\", \"y'all\": \"you all\", \"y'all'd\": \"you all would\",\"y'all'd've\": \"you all would have\",\"y'all're\": \"you all are\",\"y'all've\": \"you all have\",\"you'd\": \"you would\", \"you'd've\": \"you would have\", \"you'll\": \"you will\", \"you'll've\": \"you will have\", \"you're\": \"you are\", \"you've\": \"you have\" }\n",
    "isolate_dict = {ord(c):f' {c} ' for c in symbols_to_isolate}\n",
    "remove_dict = {ord(c):f'' for c in symbols_to_delete}"
   ]
  },
  {
   "cell_type": "code",
   "execution_count": 5,
   "id": "a23e7354",
   "metadata": {
    "execution": {
     "iopub.execute_input": "2022-01-12T04:55:39.843427Z",
     "iopub.status.busy": "2022-01-12T04:55:39.842678Z",
     "iopub.status.idle": "2022-01-12T04:55:39.846381Z",
     "shell.execute_reply": "2022-01-12T04:55:39.846939Z",
     "shell.execute_reply.started": "2022-01-12T04:24:19.915622Z"
    },
    "papermill": {
     "duration": 0.031178,
     "end_time": "2022-01-12T04:55:39.847128",
     "exception": false,
     "start_time": "2022-01-12T04:55:39.815950",
     "status": "completed"
    },
    "tags": []
   },
   "outputs": [],
   "source": [
    "def preprocess(x):\n",
    "    for k, v in CONTRACTION_MAPPING.items():\n",
    "        x = x.replace(' %s ' % k, ' %s ' % v)\n",
    "    x = x.translate(remove_dict)\n",
    "    x = x.translate(isolate_dict)\n",
    "    x = Ttokenizer.tokenize(x)\n",
    "    x = [x_[1:] if x_.startswith(\"'\") else x_ for x_ in x]\n",
    "    x = ' '.join(x)\n",
    "    return x"
   ]
  },
  {
   "cell_type": "code",
   "execution_count": 6,
   "id": "d745d5c1",
   "metadata": {
    "execution": {
     "iopub.execute_input": "2022-01-12T04:55:39.895309Z",
     "iopub.status.busy": "2022-01-12T04:55:39.894650Z",
     "iopub.status.idle": "2022-01-12T04:56:54.084858Z",
     "shell.execute_reply": "2022-01-12T04:56:54.085507Z",
     "shell.execute_reply.started": "2022-01-12T04:24:23.118810Z"
    },
    "papermill": {
     "duration": 74.217105,
     "end_time": "2022-01-12T04:56:54.085700",
     "exception": false,
     "start_time": "2022-01-12T04:55:39.868595",
     "status": "completed"
    },
    "tags": []
   },
   "outputs": [],
   "source": [
    "df['comment_text'] = apply_by_multiprocessing(df['comment_text'], preprocess, workers=4)\n",
    "df_sub['text'] = apply_by_multiprocessing(df_sub['text'], preprocess, workers=4)\n",
    "df_val['less_toxic'] = apply_by_multiprocessing(df_val['less_toxic'], preprocess, workers=4)\n",
    "df_val['more_toxic'] = apply_by_multiprocessing(df_val['more_toxic'], preprocess, workers=4)"
   ]
  },
  {
   "cell_type": "code",
   "execution_count": 7,
   "id": "b34c2515",
   "metadata": {
    "execution": {
     "iopub.execute_input": "2022-01-12T04:56:54.141231Z",
     "iopub.status.busy": "2022-01-12T04:56:54.140528Z",
     "iopub.status.idle": "2022-01-12T04:56:54.180512Z",
     "shell.execute_reply": "2022-01-12T04:56:54.181077Z",
     "shell.execute_reply.started": "2022-01-12T04:28:15.270571Z"
    },
    "papermill": {
     "duration": 0.074436,
     "end_time": "2022-01-12T04:56:54.181250",
     "exception": false,
     "start_time": "2022-01-12T04:56:54.106814",
     "status": "completed"
    },
    "tags": []
   },
   "outputs": [],
   "source": [
    "# Give 2X Weight To Toxic Comments, followed by 3X Weight to Severe Toxic Comments\n",
    "df['severe_toxic'] = df.severe_toxic * 1.5\n",
    "df['insult'] = df.insult * 0.64\n",
    "df['identity_hate'] = df.identity_hate * 1.5\n",
    "df['toxic'] = df.toxic * 0.32\n",
    "df['threat'] = df.threat * 1.5\n",
    "df['obscene'] = df.obscene * 0.16\n",
    "\n",
    "df['y'] = df[['toxic', 'severe_toxic', 'obscene', 'threat', 'insult', 'identity_hate']].mean(axis=1)"
   ]
  },
  {
   "cell_type": "code",
   "execution_count": 8,
   "id": "0f02d358",
   "metadata": {
    "execution": {
     "iopub.execute_input": "2022-01-12T04:56:54.226607Z",
     "iopub.status.busy": "2022-01-12T04:56:54.225644Z",
     "iopub.status.idle": "2022-01-12T04:56:54.228924Z",
     "shell.execute_reply": "2022-01-12T04:56:54.229533Z",
     "shell.execute_reply.started": "2022-01-10T04:36:25.797361Z"
    },
    "papermill": {
     "duration": 0.02712,
     "end_time": "2022-01-12T04:56:54.229686",
     "exception": false,
     "start_time": "2022-01-12T04:56:54.202566",
     "status": "completed"
    },
    "tags": []
   },
   "outputs": [],
   "source": [
    "# print(\"severe_toxic\",np.mean(df[df['severe_toxic']==1.5]['y']))\n",
    "# print(\"toxic\",np.mean(df[df['toxic']==1]['y']))\n",
    "# print(\"insult\",np.mean(df[df['insult']==0.1]['y']))\n",
    "# print(\"identity_hate\",np.mean(df[df['identity_hate']==1.5]['y']))\n",
    "# print(\"threat\",np.mean(df[df['threat']==1.5]['y']))\n",
    "# print(\"obscene\",np.mean(df[df['obscene']==0.16]['y']))"
   ]
  },
  {
   "cell_type": "code",
   "execution_count": 9,
   "id": "3e4d0a6e",
   "metadata": {
    "execution": {
     "iopub.execute_input": "2022-01-12T04:56:54.274831Z",
     "iopub.status.busy": "2022-01-12T04:56:54.273857Z",
     "iopub.status.idle": "2022-01-12T04:56:54.330367Z",
     "shell.execute_reply": "2022-01-12T04:56:54.330924Z",
     "shell.execute_reply.started": "2022-01-12T04:28:24.602392Z"
    },
    "papermill": {
     "duration": 0.081066,
     "end_time": "2022-01-12T04:56:54.331112",
     "exception": false,
     "start_time": "2022-01-12T04:56:54.250046",
     "status": "completed"
    },
    "tags": []
   },
   "outputs": [],
   "source": [
    "# Remove All Columns Leaving Comment Tex and Y\n",
    "df = df[['comment_text', 'y']].rename(columns={'comment_text': 'text'})"
   ]
  },
  {
   "cell_type": "code",
   "execution_count": 10,
   "id": "b97e98bf",
   "metadata": {
    "execution": {
     "iopub.execute_input": "2022-01-12T04:56:54.376169Z",
     "iopub.status.busy": "2022-01-12T04:56:54.375168Z",
     "iopub.status.idle": "2022-01-12T04:56:54.420087Z",
     "shell.execute_reply": "2022-01-12T04:56:54.420581Z",
     "shell.execute_reply.started": "2022-01-12T04:28:27.173389Z"
    },
    "papermill": {
     "duration": 0.069206,
     "end_time": "2022-01-12T04:56:54.420745",
     "exception": false,
     "start_time": "2022-01-12T04:56:54.351539",
     "status": "completed"
    },
    "tags": []
   },
   "outputs": [
    {
     "name": "stdout",
     "output_type": "stream",
     "text": [
      "(40562, 2)\n"
     ]
    }
   ],
   "source": [
    "# Reduce Rows with No Toxicity as our key focus area is the reviews with toxicity\n",
    "df = pd.concat([df[df.y>0] , \n",
    "                df[df.y==0].sample(int(len(df[df.y>0])*1.5)) ], axis=0).sample(frac=1)\n",
    "\n",
    "print(df.shape)"
   ]
  },
  {
   "cell_type": "code",
   "execution_count": 11,
   "id": "769a5554",
   "metadata": {
    "execution": {
     "iopub.execute_input": "2022-01-12T04:56:54.466445Z",
     "iopub.status.busy": "2022-01-12T04:56:54.465442Z",
     "iopub.status.idle": "2022-01-12T04:56:54.480273Z",
     "shell.execute_reply": "2022-01-12T04:56:54.479687Z",
     "shell.execute_reply.started": "2022-01-12T04:28:29.574569Z"
    },
    "papermill": {
     "duration": 0.039149,
     "end_time": "2022-01-12T04:56:54.480411",
     "exception": false,
     "start_time": "2022-01-12T04:56:54.441262",
     "status": "completed"
    },
    "tags": []
   },
   "outputs": [
    {
     "data": {
      "text/plain": [
       "count    40562.000000\n",
       "mean         0.067815\n",
       "std          0.127082\n",
       "min          0.000000\n",
       "25%          0.000000\n",
       "50%          0.000000\n",
       "75%          0.080000\n",
       "max          0.936667\n",
       "Name: y, dtype: float64"
      ]
     },
     "execution_count": 11,
     "metadata": {},
     "output_type": "execute_result"
    }
   ],
   "source": [
    "df['y'].describe()"
   ]
  },
  {
   "cell_type": "markdown",
   "id": "bb54fa7b",
   "metadata": {
    "papermill": {
     "duration": 0.020675,
     "end_time": "2022-01-12T04:56:54.522274",
     "exception": false,
     "start_time": "2022-01-12T04:56:54.501599",
     "status": "completed"
    },
    "tags": []
   },
   "source": [
    "# Modeling"
   ]
  },
  {
   "cell_type": "code",
   "execution_count": 12,
   "id": "a123131d",
   "metadata": {
    "execution": {
     "iopub.execute_input": "2022-01-12T04:56:54.570588Z",
     "iopub.status.busy": "2022-01-12T04:56:54.567768Z",
     "iopub.status.idle": "2022-01-12T04:56:54.572385Z",
     "shell.execute_reply": "2022-01-12T04:56:54.572899Z",
     "shell.execute_reply.started": "2022-01-12T04:28:49.943753Z"
    },
    "papermill": {
     "duration": 0.029681,
     "end_time": "2022-01-12T04:56:54.573059",
     "exception": false,
     "start_time": "2022-01-12T04:56:54.543378",
     "status": "completed"
    },
    "tags": []
   },
   "outputs": [],
   "source": [
    "pipeline = Pipeline(\n",
    "    [\n",
    "        (\"vect\", TfidfVectorizer(min_df= 3, max_df=0.5, analyzer = 'char_wb', ngram_range = (3,5))),\n",
    "        (\"clf\", Ridge()),\n",
    "    ]\n",
    ")"
   ]
  },
  {
   "cell_type": "code",
   "execution_count": 13,
   "id": "2737a81a",
   "metadata": {
    "execution": {
     "iopub.execute_input": "2022-01-12T04:56:54.622642Z",
     "iopub.status.busy": "2022-01-12T04:56:54.621671Z",
     "iopub.status.idle": "2022-01-12T04:57:33.812788Z",
     "shell.execute_reply": "2022-01-12T04:57:33.813711Z",
     "shell.execute_reply.started": "2022-01-12T04:28:51.567994Z"
    },
    "papermill": {
     "duration": 39.218071,
     "end_time": "2022-01-12T04:57:33.814013",
     "exception": false,
     "start_time": "2022-01-12T04:56:54.595942",
     "status": "completed"
    },
    "tags": []
   },
   "outputs": [
    {
     "data": {
      "text/plain": [
       "Pipeline(steps=[('vect',\n",
       "                 TfidfVectorizer(analyzer='char_wb', max_df=0.5, min_df=3,\n",
       "                                 ngram_range=(3, 5))),\n",
       "                ('clf', Ridge())])"
      ]
     },
     "execution_count": 13,
     "metadata": {},
     "output_type": "execute_result"
    }
   ],
   "source": [
    "# Train the pipeline\n",
    "pipeline.fit(df['text'], df['y'])"
   ]
  },
  {
   "cell_type": "markdown",
   "id": "c8f793ef",
   "metadata": {
    "papermill": {
     "duration": 0.030672,
     "end_time": "2022-01-12T04:57:33.882473",
     "exception": false,
     "start_time": "2022-01-12T04:57:33.851801",
     "status": "completed"
    },
    "tags": []
   },
   "source": [
    "# Validate the pipeline "
   ]
  },
  {
   "cell_type": "code",
   "execution_count": 14,
   "id": "6e2ad226",
   "metadata": {
    "execution": {
     "iopub.execute_input": "2022-01-12T04:57:33.934281Z",
     "iopub.status.busy": "2022-01-12T04:57:33.933612Z",
     "iopub.status.idle": "2022-01-12T04:58:24.797295Z",
     "shell.execute_reply": "2022-01-12T04:58:24.796685Z",
     "shell.execute_reply.started": "2022-01-12T04:29:30.722027Z"
    },
    "papermill": {
     "duration": 50.893592,
     "end_time": "2022-01-12T04:58:24.797464",
     "exception": false,
     "start_time": "2022-01-12T04:57:33.903872",
     "status": "completed"
    },
    "tags": []
   },
   "outputs": [],
   "source": [
    "p1 = pipeline.predict(df_val['less_toxic'])\n",
    "p2 = pipeline.predict(df_val['more_toxic'])"
   ]
  },
  {
   "cell_type": "code",
   "execution_count": 15,
   "id": "fde86b62",
   "metadata": {
    "execution": {
     "iopub.execute_input": "2022-01-12T04:58:24.846362Z",
     "iopub.status.busy": "2022-01-12T04:58:24.845049Z",
     "iopub.status.idle": "2022-01-12T04:58:24.848899Z",
     "shell.execute_reply": "2022-01-12T04:58:24.849392Z",
     "shell.execute_reply.started": "2022-01-12T04:30:22.247862Z"
    },
    "papermill": {
     "duration": 0.030306,
     "end_time": "2022-01-12T04:58:24.849544",
     "exception": false,
     "start_time": "2022-01-12T04:58:24.819238",
     "status": "completed"
    },
    "tags": []
   },
   "outputs": [
    {
     "data": {
      "text/plain": [
       "'Validation Accuracy is 67.51'"
      ]
     },
     "execution_count": 15,
     "metadata": {},
     "output_type": "execute_result"
    }
   ],
   "source": [
    "# Prev Version: 65.82\n",
    "# Validation Accuracy is 67.75\n",
    "# 'Validation Accuracy is 68.45'\n",
    "f'Validation Accuracy is { np.round((p1 < p2).mean() * 100,2)}'"
   ]
  },
  {
   "cell_type": "markdown",
   "id": "285a3e60",
   "metadata": {
    "papermill": {
     "duration": 0.021271,
     "end_time": "2022-01-12T04:58:24.892505",
     "exception": false,
     "start_time": "2022-01-12T04:58:24.871234",
     "status": "completed"
    },
    "tags": []
   },
   "source": [
    "Experiment : Assing More Toxic Comments Weight to "
   ]
  },
  {
   "cell_type": "code",
   "execution_count": 16,
   "id": "f63929d5",
   "metadata": {
    "execution": {
     "iopub.execute_input": "2022-01-12T04:58:24.938557Z",
     "iopub.status.busy": "2022-01-12T04:58:24.937913Z",
     "iopub.status.idle": "2022-01-12T04:58:24.941764Z",
     "shell.execute_reply": "2022-01-12T04:58:24.942292Z",
     "shell.execute_reply.started": "2022-01-09T17:56:13.753685Z"
    },
    "papermill": {
     "duration": 0.028627,
     "end_time": "2022-01-12T04:58:24.942464",
     "exception": false,
     "start_time": "2022-01-12T04:58:24.913837",
     "status": "completed"
    },
    "tags": []
   },
   "outputs": [],
   "source": [
    "# df_val['p1'] = p1\n",
    "# df_val['p2'] = p2\n",
    "# df_val['diff'] = np.abs(p2 - p1)\n",
    "\n",
    "# df_val['correct'] = (p1 < p2).astype('int')\n",
    "\n",
    "# df_val_incorrect_preds_l = pd.DataFrame()\n",
    "# df_val_incorrect_preds_l['text'] = df_val[df_val['correct']==0]['less_toxic']\n",
    "# df_val_incorrect_preds_l['y'] = 0.2\n",
    "\n",
    "# df_val_incorrect_preds_m = pd.DataFrame()\n",
    "# df_val_incorrect_preds_m['text'] = df_val[df_val['correct']==0]['more_toxic']\n",
    "# df_val_incorrect_preds_m['y'] = 0.7\n",
    "\n",
    "# df_v2 = pd.concat([df , df_val_incorrect_preds_l, df_val_incorrect_preds_m])\n",
    "\n",
    "# print(df_v2.shape)\n",
    "\n",
    "# Train the pipeline with v2 data\n",
    "# pipeline.fit(df['text'], df['y'])\n",
    "\n",
    "# p1 = pipeline.predict(df_val['less_toxic'])\n",
    "# p2 = pipeline.predict(df_val['more_toxic'])\n",
    "\n",
    "# f'Validation Accuracy is { np.round((p1 < p2).mean() * 100,2)}'"
   ]
  },
  {
   "cell_type": "markdown",
   "id": "e5a0ecde",
   "metadata": {
    "papermill": {
     "duration": 0.021133,
     "end_time": "2022-01-12T04:58:24.985699",
     "exception": false,
     "start_time": "2022-01-12T04:58:24.964566",
     "status": "completed"
    },
    "tags": []
   },
   "source": [
    "# Predict on test data "
   ]
  },
  {
   "cell_type": "code",
   "execution_count": 17,
   "id": "97efc78b",
   "metadata": {
    "execution": {
     "iopub.execute_input": "2022-01-12T04:58:25.058570Z",
     "iopub.status.busy": "2022-01-12T04:58:25.053528Z",
     "iopub.status.idle": "2022-01-12T04:58:31.569787Z",
     "shell.execute_reply": "2022-01-12T04:58:31.569082Z",
     "shell.execute_reply.started": "2022-01-12T04:30:38.541532Z"
    },
    "papermill": {
     "duration": 6.562439,
     "end_time": "2022-01-12T04:58:31.569925",
     "exception": false,
     "start_time": "2022-01-12T04:58:25.007486",
     "status": "completed"
    },
    "tags": []
   },
   "outputs": [],
   "source": [
    "# Predict using pipeline\n",
    "\n",
    "sub_preds = pipeline.predict(df_sub['text'])\n",
    "\n",
    "df_sub['score'] = sub_preds"
   ]
  },
  {
   "cell_type": "markdown",
   "id": "24ba0f47",
   "metadata": {
    "papermill": {
     "duration": 0.021337,
     "end_time": "2022-01-12T04:58:31.612869",
     "exception": false,
     "start_time": "2022-01-12T04:58:31.591532",
     "status": "completed"
    },
    "tags": []
   },
   "source": [
    "## Correct the rank ordering"
   ]
  },
  {
   "cell_type": "code",
   "execution_count": 18,
   "id": "e7a4ac25",
   "metadata": {
    "execution": {
     "iopub.execute_input": "2022-01-12T04:58:31.660656Z",
     "iopub.status.busy": "2022-01-12T04:58:31.659666Z",
     "iopub.status.idle": "2022-01-12T04:58:31.675718Z",
     "shell.execute_reply": "2022-01-12T04:58:31.676183Z",
     "shell.execute_reply.started": "2022-01-12T04:30:45.308157Z"
    },
    "papermill": {
     "duration": 0.041714,
     "end_time": "2022-01-12T04:58:31.676363",
     "exception": false,
     "start_time": "2022-01-12T04:58:31.634649",
     "status": "completed"
    },
    "tags": []
   },
   "outputs": [
    {
     "name": "stdout",
     "output_type": "stream",
     "text": [
      "7537\n"
     ]
    }
   ],
   "source": [
    "# Rank the predictions \n",
    "\n",
    "df_sub['score']  = scipy.stats.rankdata(df_sub['score'], method='ordinal')\n",
    "\n",
    "print(df_sub['score'].rank().nunique())"
   ]
  },
  {
   "cell_type": "code",
   "execution_count": 19,
   "id": "77453afe",
   "metadata": {
    "execution": {
     "iopub.execute_input": "2022-01-12T04:58:31.726791Z",
     "iopub.status.busy": "2022-01-12T04:58:31.726122Z",
     "iopub.status.idle": "2022-01-12T04:58:31.749378Z",
     "shell.execute_reply": "2022-01-12T04:58:31.749929Z",
     "shell.execute_reply.started": "2022-01-09T18:02:04.217121Z"
    },
    "papermill": {
     "duration": 0.051444,
     "end_time": "2022-01-12T04:58:31.750120",
     "exception": false,
     "start_time": "2022-01-12T04:58:31.698676",
     "status": "completed"
    },
    "tags": []
   },
   "outputs": [],
   "source": [
    "df_sub[['comment_id', 'score']].to_csv(\"submission.csv\", index=False)"
   ]
  }
 ],
 "metadata": {
  "kernelspec": {
   "display_name": "Python 3",
   "language": "python",
   "name": "python3"
  },
  "language_info": {
   "codemirror_mode": {
    "name": "ipython",
    "version": 3
   },
   "file_extension": ".py",
   "mimetype": "text/x-python",
   "name": "python",
   "nbconvert_exporter": "python",
   "pygments_lexer": "ipython3",
   "version": "3.7.10"
  },
  "papermill": {
   "default_parameters": {},
   "duration": 186.878006,
   "end_time": "2022-01-12T04:58:32.583171",
   "environment_variables": {},
   "exception": null,
   "input_path": "__notebook__.ipynb",
   "output_path": "__notebook__.ipynb",
   "parameters": {},
   "start_time": "2022-01-12T04:55:25.705165",
   "version": "2.3.3"
  }
 },
 "nbformat": 4,
 "nbformat_minor": 5
}
