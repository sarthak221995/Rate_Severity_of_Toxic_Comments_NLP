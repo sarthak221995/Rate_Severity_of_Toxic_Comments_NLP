{
 "cells": [
  {
   "cell_type": "markdown",
   "id": "6342f62e",
   "metadata": {
    "papermill": {
     "duration": 0.027424,
     "end_time": "2022-01-09T18:06:50.810338",
     "exception": false,
     "start_time": "2022-01-09T18:06:50.782914",
     "status": "completed"
    },
    "tags": []
   },
   "source": [
    "## 0.8+ score by simple TF-Idf and Ridge regression\n",
    "\n",
    "## Analysis of bad predictions\n",
    "\n"
   ]
  },
  {
   "cell_type": "markdown",
   "id": "358d527c",
   "metadata": {
    "papermill": {
     "duration": 0.023121,
     "end_time": "2022-01-09T18:06:50.857942",
     "exception": false,
     "start_time": "2022-01-09T18:06:50.834821",
     "status": "completed"
    },
    "tags": []
   },
   "source": [
    "## Built on top of the amazing notebook here : \n",
    "https://www.kaggle.com/julian3833/jigsaw-incredibly-simple-naive-bayes-0-768\n"
   ]
  },
  {
   "cell_type": "markdown",
   "id": "cfe4daa6",
   "metadata": {
    "papermill": {
     "duration": 0.022977,
     "end_time": "2022-01-09T18:06:50.904310",
     "exception": false,
     "start_time": "2022-01-09T18:06:50.881333",
     "status": "completed"
    },
    "tags": []
   },
   "source": [
    "# Import Dependencies"
   ]
  },
  {
   "cell_type": "code",
   "execution_count": 1,
   "id": "5645fd16",
   "metadata": {
    "execution": {
     "iopub.execute_input": "2022-01-09T18:06:50.956911Z",
     "iopub.status.busy": "2022-01-09T18:06:50.955135Z",
     "iopub.status.idle": "2022-01-09T18:06:52.273893Z",
     "shell.execute_reply": "2022-01-09T18:06:52.272801Z",
     "shell.execute_reply.started": "2022-01-09T17:31:32.346897Z"
    },
    "papermill": {
     "duration": 1.346177,
     "end_time": "2022-01-09T18:06:52.274083",
     "exception": false,
     "start_time": "2022-01-09T18:06:50.927906",
     "status": "completed"
    },
    "tags": []
   },
   "outputs": [],
   "source": [
    "import pandas as pd\n",
    "import numpy as np\n",
    "from sklearn.ensemble import RandomForestRegressor\n",
    "from sklearn.feature_extraction.text import TfidfVectorizer\n",
    "from sklearn.linear_model import Ridge, LinearRegression\n",
    "from sklearn.pipeline import Pipeline\n",
    "import scipy\n",
    "pd.options.display.max_colwidth=300"
   ]
  },
  {
   "cell_type": "markdown",
   "id": "7ad2b6a6",
   "metadata": {
    "papermill": {
     "duration": 0.022985,
     "end_time": "2022-01-09T18:06:52.320656",
     "exception": false,
     "start_time": "2022-01-09T18:06:52.297671",
     "status": "completed"
    },
    "tags": []
   },
   "source": [
    "# Read Jigsaw Toxic Comment Classification DataBase"
   ]
  },
  {
   "cell_type": "code",
   "execution_count": 2,
   "id": "c281dcea",
   "metadata": {
    "execution": {
     "iopub.execute_input": "2022-01-09T18:06:52.373473Z",
     "iopub.status.busy": "2022-01-09T18:06:52.372818Z",
     "iopub.status.idle": "2022-01-09T18:06:54.421538Z",
     "shell.execute_reply": "2022-01-09T18:06:54.422708Z",
     "shell.execute_reply.started": "2022-01-09T17:53:23.019654Z"
    },
    "papermill": {
     "duration": 2.078788,
     "end_time": "2022-01-09T18:06:54.422950",
     "exception": false,
     "start_time": "2022-01-09T18:06:52.344162",
     "status": "completed"
    },
    "tags": []
   },
   "outputs": [
    {
     "name": "stdout",
     "output_type": "stream",
     "text": [
      "(159571, 8)\n"
     ]
    }
   ],
   "source": [
    "df = pd.read_csv(\"../input/jigsaw-toxic-comment-classification-challenge/train.csv\")\n",
    "print(df.shape)"
   ]
  },
  {
   "cell_type": "code",
   "execution_count": 3,
   "id": "7410ded5",
   "metadata": {
    "execution": {
     "iopub.execute_input": "2022-01-09T18:06:54.476079Z",
     "iopub.status.busy": "2022-01-09T18:06:54.475354Z",
     "iopub.status.idle": "2022-01-09T18:06:55.006082Z",
     "shell.execute_reply": "2022-01-09T18:06:55.005139Z",
     "shell.execute_reply.started": "2022-01-09T17:44:00.396272Z"
    },
    "papermill": {
     "duration": 0.558443,
     "end_time": "2022-01-09T18:06:55.006244",
     "exception": false,
     "start_time": "2022-01-09T18:06:54.447801",
     "status": "completed"
    },
    "tags": []
   },
   "outputs": [
    {
     "name": "stdout",
     "output_type": "stream",
     "text": [
      "(30108, 3)\n"
     ]
    }
   ],
   "source": [
    "df_val = pd.read_csv(\"../input/jigsaw-toxic-severity-rating/validation_data.csv\")\n",
    "print(df_val.shape)"
   ]
  },
  {
   "cell_type": "code",
   "execution_count": 4,
   "id": "5649ef92",
   "metadata": {
    "execution": {
     "iopub.execute_input": "2022-01-09T18:06:55.057802Z",
     "iopub.status.busy": "2022-01-09T18:06:55.057155Z",
     "iopub.status.idle": "2022-01-09T18:06:55.082656Z",
     "shell.execute_reply": "2022-01-09T18:06:55.082060Z",
     "shell.execute_reply.started": "2022-01-09T17:53:25.371038Z"
    },
    "papermill": {
     "duration": 0.052273,
     "end_time": "2022-01-09T18:06:55.082810",
     "exception": false,
     "start_time": "2022-01-09T18:06:55.030537",
     "status": "completed"
    },
    "tags": []
   },
   "outputs": [],
   "source": [
    "# Give 2X Weight To Toxic Comments, followed by 3X Weight to Severe Toxic Comments\n",
    "df['severe_toxic'] = df.severe_toxic * 3\n",
    "df['toxic'] = df.toxic * 2\n",
    "df['y'] = (df[['toxic', 'severe_toxic', 'obscene', 'threat', 'insult', 'identity_hate']].sum(axis=1) ).astype(int)"
   ]
  },
  {
   "cell_type": "code",
   "execution_count": 5,
   "id": "23bbe03b",
   "metadata": {
    "execution": {
     "iopub.execute_input": "2022-01-09T18:06:55.137409Z",
     "iopub.status.busy": "2022-01-09T18:06:55.136623Z",
     "iopub.status.idle": "2022-01-09T18:06:55.157131Z",
     "shell.execute_reply": "2022-01-09T18:06:55.156448Z",
     "shell.execute_reply.started": "2022-01-09T17:49:39.114749Z"
    },
    "papermill": {
     "duration": 0.049994,
     "end_time": "2022-01-09T18:06:55.157274",
     "exception": false,
     "start_time": "2022-01-09T18:06:55.107280",
     "status": "completed"
    },
    "tags": []
   },
   "outputs": [
    {
     "name": "stdout",
     "output_type": "stream",
     "text": [
      "7.077115987460815\n",
      "3.425787890676082\n"
     ]
    }
   ],
   "source": [
    "print(np.mean(df[df['severe_toxic']==3]['y']))\n",
    "print(np.mean(df[df['toxic']==2]['y']))"
   ]
  },
  {
   "cell_type": "code",
   "execution_count": 6,
   "id": "88c0a9fa",
   "metadata": {
    "execution": {
     "iopub.execute_input": "2022-01-09T18:06:55.229711Z",
     "iopub.status.busy": "2022-01-09T18:06:55.218694Z",
     "iopub.status.idle": "2022-01-09T18:06:55.232812Z",
     "shell.execute_reply": "2022-01-09T18:06:55.232146Z",
     "shell.execute_reply.started": "2022-01-09T17:53:28.028305Z"
    },
    "papermill": {
     "duration": 0.050836,
     "end_time": "2022-01-09T18:06:55.232955",
     "exception": false,
     "start_time": "2022-01-09T18:06:55.182119",
     "status": "completed"
    },
    "tags": []
   },
   "outputs": [],
   "source": [
    "# Remove All Columns Leaving Comment Tex and Y\n",
    "df = df[['comment_text', 'y']].rename(columns={'comment_text': 'text'})"
   ]
  },
  {
   "cell_type": "code",
   "execution_count": 7,
   "id": "f101b48e",
   "metadata": {
    "execution": {
     "iopub.execute_input": "2022-01-09T18:06:55.284709Z",
     "iopub.status.busy": "2022-01-09T18:06:55.284063Z",
     "iopub.status.idle": "2022-01-09T18:06:55.341156Z",
     "shell.execute_reply": "2022-01-09T18:06:55.340553Z",
     "shell.execute_reply.started": "2022-01-09T17:53:35.153230Z"
    },
    "papermill": {
     "duration": 0.084296,
     "end_time": "2022-01-09T18:06:55.341324",
     "exception": false,
     "start_time": "2022-01-09T18:06:55.257028",
     "status": "completed"
    },
    "tags": []
   },
   "outputs": [
    {
     "name": "stdout",
     "output_type": "stream",
     "text": [
      "(40562, 2)\n"
     ]
    }
   ],
   "source": [
    "# Reduce Rows with No Toxicity as our key focus area is the reviews with toxicity\n",
    "df = pd.concat([df[df.y>0] , \n",
    "                df[df.y==0].sample(int(len(df[df.y>0])*1.5)) ], axis=0).sample(frac=1)\n",
    "\n",
    "print(df.shape)"
   ]
  },
  {
   "cell_type": "code",
   "execution_count": 8,
   "id": "4fc2f6e1",
   "metadata": {
    "execution": {
     "iopub.execute_input": "2022-01-09T18:06:55.405905Z",
     "iopub.status.busy": "2022-01-09T18:06:55.405184Z",
     "iopub.status.idle": "2022-01-09T18:06:55.408672Z",
     "shell.execute_reply": "2022-01-09T18:06:55.409143Z",
     "shell.execute_reply.started": "2022-01-09T17:47:00.538605Z"
    },
    "papermill": {
     "duration": 0.043098,
     "end_time": "2022-01-09T18:06:55.409350",
     "exception": false,
     "start_time": "2022-01-09T18:06:55.366252",
     "status": "completed"
    },
    "tags": []
   },
   "outputs": [
    {
     "data": {
      "text/plain": [
       "0    24337\n",
       "2     5883\n",
       "4     4003\n",
       "3     3242\n",
       "7     1008\n",
       "5      793\n",
       "1      694\n",
       "8      329\n",
       "6      242\n",
       "9       31\n",
       "Name: y, dtype: int64"
      ]
     },
     "execution_count": 8,
     "metadata": {},
     "output_type": "execute_result"
    }
   ],
   "source": [
    "df['y'].value_counts()"
   ]
  },
  {
   "cell_type": "markdown",
   "id": "f724168b",
   "metadata": {
    "papermill": {
     "duration": 0.024257,
     "end_time": "2022-01-09T18:06:55.458462",
     "exception": false,
     "start_time": "2022-01-09T18:06:55.434205",
     "status": "completed"
    },
    "tags": []
   },
   "source": [
    "# Modeling"
   ]
  },
  {
   "cell_type": "code",
   "execution_count": 9,
   "id": "81cd05b5",
   "metadata": {
    "execution": {
     "iopub.execute_input": "2022-01-09T18:06:55.514414Z",
     "iopub.status.busy": "2022-01-09T18:06:55.513772Z",
     "iopub.status.idle": "2022-01-09T18:06:55.516211Z",
     "shell.execute_reply": "2022-01-09T18:06:55.515584Z",
     "shell.execute_reply.started": "2022-01-09T17:43:15.860252Z"
    },
    "papermill": {
     "duration": 0.033174,
     "end_time": "2022-01-09T18:06:55.516347",
     "exception": false,
     "start_time": "2022-01-09T18:06:55.483173",
     "status": "completed"
    },
    "tags": []
   },
   "outputs": [],
   "source": [
    "pipeline = Pipeline(\n",
    "    [\n",
    "        (\"vect\", TfidfVectorizer(min_df= 3, max_df=0.5, analyzer = 'char_wb', ngram_range = (3,5))),\n",
    "        (\"clf\", Ridge()),\n",
    "    ]\n",
    ")"
   ]
  },
  {
   "cell_type": "code",
   "execution_count": 10,
   "id": "4beee8d6",
   "metadata": {
    "execution": {
     "iopub.execute_input": "2022-01-09T18:06:55.570959Z",
     "iopub.status.busy": "2022-01-09T18:06:55.570305Z",
     "iopub.status.idle": "2022-01-09T18:07:41.379526Z",
     "shell.execute_reply": "2022-01-09T18:07:41.380508Z",
     "shell.execute_reply.started": "2022-01-09T17:43:28.556585Z"
    },
    "papermill": {
     "duration": 45.838653,
     "end_time": "2022-01-09T18:07:41.380866",
     "exception": false,
     "start_time": "2022-01-09T18:06:55.542213",
     "status": "completed"
    },
    "tags": []
   },
   "outputs": [
    {
     "data": {
      "text/plain": [
       "Pipeline(steps=[('vect',\n",
       "                 TfidfVectorizer(analyzer='char_wb', max_df=0.5, min_df=3,\n",
       "                                 ngram_range=(3, 5))),\n",
       "                ('clf', Ridge())])"
      ]
     },
     "execution_count": 10,
     "metadata": {},
     "output_type": "execute_result"
    }
   ],
   "source": [
    "# Train the pipeline\n",
    "pipeline.fit(df['text'], df['y'])"
   ]
  },
  {
   "cell_type": "markdown",
   "id": "9fb081e8",
   "metadata": {
    "papermill": {
     "duration": 0.025803,
     "end_time": "2022-01-09T18:07:41.456400",
     "exception": false,
     "start_time": "2022-01-09T18:07:41.430597",
     "status": "completed"
    },
    "tags": []
   },
   "source": [
    "# Validate the pipeline "
   ]
  },
  {
   "cell_type": "code",
   "execution_count": 11,
   "id": "d92cc650",
   "metadata": {
    "execution": {
     "iopub.execute_input": "2022-01-09T18:07:41.534280Z",
     "iopub.status.busy": "2022-01-09T18:07:41.523802Z",
     "iopub.status.idle": "2022-01-09T18:08:38.837601Z",
     "shell.execute_reply": "2022-01-09T18:08:38.838142Z",
     "shell.execute_reply.started": "2022-01-09T17:44:22.186718Z"
    },
    "papermill": {
     "duration": 57.356182,
     "end_time": "2022-01-09T18:08:38.838569",
     "exception": false,
     "start_time": "2022-01-09T18:07:41.482387",
     "status": "completed"
    },
    "tags": []
   },
   "outputs": [],
   "source": [
    "p1 = pipeline.predict(df_val['less_toxic'])\n",
    "p2 = pipeline.predict(df_val['more_toxic'])"
   ]
  },
  {
   "cell_type": "code",
   "execution_count": 12,
   "id": "7443012f",
   "metadata": {
    "execution": {
     "iopub.execute_input": "2022-01-09T18:08:38.894985Z",
     "iopub.status.busy": "2022-01-09T18:08:38.893998Z",
     "iopub.status.idle": "2022-01-09T18:08:38.899528Z",
     "shell.execute_reply": "2022-01-09T18:08:38.900117Z",
     "shell.execute_reply.started": "2022-01-09T17:45:15.529728Z"
    },
    "papermill": {
     "duration": 0.034875,
     "end_time": "2022-01-09T18:08:38.900282",
     "exception": false,
     "start_time": "2022-01-09T18:08:38.865407",
     "status": "completed"
    },
    "tags": []
   },
   "outputs": [
    {
     "data": {
      "text/plain": [
       "'Validation Accuracy is 68.46'"
      ]
     },
     "execution_count": 12,
     "metadata": {},
     "output_type": "execute_result"
    }
   ],
   "source": [
    "f'Validation Accuracy is { np.round((p1 < p2).mean() * 100,2)}'"
   ]
  },
  {
   "cell_type": "code",
   "execution_count": 13,
   "id": "0dd00885",
   "metadata": {
    "execution": {
     "iopub.execute_input": "2022-01-09T18:08:38.958091Z",
     "iopub.status.busy": "2022-01-09T18:08:38.957385Z",
     "iopub.status.idle": "2022-01-09T18:08:38.961589Z",
     "shell.execute_reply": "2022-01-09T18:08:38.962052Z",
     "shell.execute_reply.started": "2022-01-09T17:50:18.496960Z"
    },
    "papermill": {
     "duration": 0.036632,
     "end_time": "2022-01-09T18:08:38.962225",
     "exception": false,
     "start_time": "2022-01-09T18:08:38.925593",
     "status": "completed"
    },
    "tags": []
   },
   "outputs": [],
   "source": [
    "df_val['p1'] = p1\n",
    "df_val['p2'] = p2\n",
    "df_val['diff'] = np.abs(p2 - p1)\n",
    "\n",
    "df_val['correct'] = (p1 < p2).astype('int')"
   ]
  },
  {
   "cell_type": "markdown",
   "id": "5f8d08c2",
   "metadata": {
    "papermill": {
     "duration": 0.026352,
     "end_time": "2022-01-09T18:08:39.014151",
     "exception": false,
     "start_time": "2022-01-09T18:08:38.987799",
     "status": "completed"
    },
    "tags": []
   },
   "source": [
    "Experiment : Assing More Toxic Comments Weight to "
   ]
  },
  {
   "cell_type": "code",
   "execution_count": 14,
   "id": "84e3c866",
   "metadata": {
    "execution": {
     "iopub.execute_input": "2022-01-09T18:08:39.069112Z",
     "iopub.status.busy": "2022-01-09T18:08:39.068088Z",
     "iopub.status.idle": "2022-01-09T18:08:39.085474Z",
     "shell.execute_reply": "2022-01-09T18:08:39.085982Z",
     "shell.execute_reply.started": "2022-01-09T17:56:13.753685Z"
    },
    "papermill": {
     "duration": 0.046618,
     "end_time": "2022-01-09T18:08:39.086167",
     "exception": false,
     "start_time": "2022-01-09T18:08:39.039549",
     "status": "completed"
    },
    "tags": []
   },
   "outputs": [],
   "source": [
    "df_val_incorrect_preds_l = pd.DataFrame()\n",
    "df_val_incorrect_preds_l['text'] = df_val[df_val['correct']==0]['less_toxic']\n",
    "df_val_incorrect_preds_l['y'] = 3.4\n",
    "\n",
    "df_val_incorrect_preds_m = pd.DataFrame()\n",
    "df_val_incorrect_preds_m['text'] = df_val[df_val['correct']==0]['more_toxic']\n",
    "df_val_incorrect_preds_m['y'] = 7.07"
   ]
  },
  {
   "cell_type": "code",
   "execution_count": 15,
   "id": "bfbdc754",
   "metadata": {
    "execution": {
     "iopub.execute_input": "2022-01-09T18:08:39.142411Z",
     "iopub.status.busy": "2022-01-09T18:08:39.141452Z",
     "iopub.status.idle": "2022-01-09T18:08:39.148744Z",
     "shell.execute_reply": "2022-01-09T18:08:39.149351Z",
     "shell.execute_reply.started": "2022-01-09T17:57:38.272798Z"
    },
    "papermill": {
     "duration": 0.03824,
     "end_time": "2022-01-09T18:08:39.149602",
     "exception": false,
     "start_time": "2022-01-09T18:08:39.111362",
     "status": "completed"
    },
    "tags": []
   },
   "outputs": [
    {
     "name": "stdout",
     "output_type": "stream",
     "text": [
      "(59556, 2)\n"
     ]
    }
   ],
   "source": [
    "df_v2 = pd.concat([df , df_val_incorrect_preds_l, df_val_incorrect_preds_m])\n",
    "\n",
    "print(df_v2.shape)"
   ]
  },
  {
   "cell_type": "code",
   "execution_count": 16,
   "id": "ce3b15e0",
   "metadata": {
    "execution": {
     "iopub.execute_input": "2022-01-09T18:08:39.206904Z",
     "iopub.status.busy": "2022-01-09T18:08:39.205963Z",
     "iopub.status.idle": "2022-01-09T18:09:24.229967Z",
     "shell.execute_reply": "2022-01-09T18:09:24.230864Z",
     "shell.execute_reply.started": "2022-01-09T17:58:05.420424Z"
    },
    "papermill": {
     "duration": 45.055118,
     "end_time": "2022-01-09T18:09:24.231183",
     "exception": false,
     "start_time": "2022-01-09T18:08:39.176065",
     "status": "completed"
    },
    "tags": []
   },
   "outputs": [
    {
     "data": {
      "text/plain": [
       "Pipeline(steps=[('vect',\n",
       "                 TfidfVectorizer(analyzer='char_wb', max_df=0.5, min_df=3,\n",
       "                                 ngram_range=(3, 5))),\n",
       "                ('clf', Ridge())])"
      ]
     },
     "execution_count": 16,
     "metadata": {},
     "output_type": "execute_result"
    }
   ],
   "source": [
    "# Train the pipeline with v2 data\n",
    "pipeline.fit(df['text'], df['y'])"
   ]
  },
  {
   "cell_type": "code",
   "execution_count": 17,
   "id": "9f05b7af",
   "metadata": {
    "execution": {
     "iopub.execute_input": "2022-01-09T18:09:24.345367Z",
     "iopub.status.busy": "2022-01-09T18:09:24.344108Z",
     "iopub.status.idle": "2022-01-09T18:10:21.395589Z",
     "shell.execute_reply": "2022-01-09T18:10:21.394978Z",
     "shell.execute_reply.started": "2022-01-09T17:59:01.496665Z"
    },
    "papermill": {
     "duration": 57.102192,
     "end_time": "2022-01-09T18:10:21.395756",
     "exception": false,
     "start_time": "2022-01-09T18:09:24.293564",
     "status": "completed"
    },
    "tags": []
   },
   "outputs": [],
   "source": [
    "p1 = pipeline.predict(df_val['less_toxic'])\n",
    "p2 = pipeline.predict(df_val['more_toxic'])"
   ]
  },
  {
   "cell_type": "code",
   "execution_count": 18,
   "id": "e4a6afb5",
   "metadata": {
    "execution": {
     "iopub.execute_input": "2022-01-09T18:10:21.454083Z",
     "iopub.status.busy": "2022-01-09T18:10:21.452995Z",
     "iopub.status.idle": "2022-01-09T18:10:21.458477Z",
     "shell.execute_reply": "2022-01-09T18:10:21.457860Z",
     "shell.execute_reply.started": "2022-01-09T17:59:57.575788Z"
    },
    "papermill": {
     "duration": 0.036434,
     "end_time": "2022-01-09T18:10:21.458639",
     "exception": false,
     "start_time": "2022-01-09T18:10:21.422205",
     "status": "completed"
    },
    "tags": []
   },
   "outputs": [
    {
     "data": {
      "text/plain": [
       "'Validation Accuracy is 68.46'"
      ]
     },
     "execution_count": 18,
     "metadata": {},
     "output_type": "execute_result"
    }
   ],
   "source": [
    "f'Validation Accuracy is { np.round((p1 < p2).mean() * 100,2)}'"
   ]
  },
  {
   "cell_type": "markdown",
   "id": "0c59e2f5",
   "metadata": {
    "papermill": {
     "duration": 0.026102,
     "end_time": "2022-01-09T18:10:21.510953",
     "exception": false,
     "start_time": "2022-01-09T18:10:21.484851",
     "status": "completed"
    },
    "tags": []
   },
   "source": [
    "# Predict on test data "
   ]
  },
  {
   "cell_type": "code",
   "execution_count": 19,
   "id": "0857aee2",
   "metadata": {
    "execution": {
     "iopub.execute_input": "2022-01-09T18:10:21.569460Z",
     "iopub.status.busy": "2022-01-09T18:10:21.568830Z",
     "iopub.status.idle": "2022-01-09T18:10:21.687628Z",
     "shell.execute_reply": "2022-01-09T18:10:21.687054Z",
     "shell.execute_reply.started": "2022-01-09T18:01:29.086314Z"
    },
    "papermill": {
     "duration": 0.150357,
     "end_time": "2022-01-09T18:10:21.687782",
     "exception": false,
     "start_time": "2022-01-09T18:10:21.537425",
     "status": "completed"
    },
    "tags": []
   },
   "outputs": [],
   "source": [
    "df_sub = pd.read_csv(\"../input/jigsaw-toxic-severity-rating/comments_to_score.csv\")\n"
   ]
  },
  {
   "cell_type": "code",
   "execution_count": 20,
   "id": "748ff72b",
   "metadata": {
    "execution": {
     "iopub.execute_input": "2022-01-09T18:10:21.788813Z",
     "iopub.status.busy": "2022-01-09T18:10:21.783332Z",
     "iopub.status.idle": "2022-01-09T18:10:29.323732Z",
     "shell.execute_reply": "2022-01-09T18:10:29.323014Z",
     "shell.execute_reply.started": "2022-01-09T18:01:33.702899Z"
    },
    "papermill": {
     "duration": 7.609608,
     "end_time": "2022-01-09T18:10:29.323903",
     "exception": false,
     "start_time": "2022-01-09T18:10:21.714295",
     "status": "completed"
    },
    "tags": []
   },
   "outputs": [],
   "source": [
    "# Predict using pipeline\n",
    "\n",
    "sub_preds = pipeline.predict(df_sub['text'])\n",
    "\n",
    "df_sub['score'] = sub_preds"
   ]
  },
  {
   "cell_type": "markdown",
   "id": "1c3b723d",
   "metadata": {
    "papermill": {
     "duration": 0.026549,
     "end_time": "2022-01-09T18:10:29.377470",
     "exception": false,
     "start_time": "2022-01-09T18:10:29.350921",
     "status": "completed"
    },
    "tags": []
   },
   "source": [
    "## Correct the rank ordering"
   ]
  },
  {
   "cell_type": "code",
   "execution_count": 21,
   "id": "c0f83664",
   "metadata": {
    "execution": {
     "iopub.execute_input": "2022-01-09T18:10:29.438833Z",
     "iopub.status.busy": "2022-01-09T18:10:29.438124Z",
     "iopub.status.idle": "2022-01-09T18:10:29.451052Z",
     "shell.execute_reply": "2022-01-09T18:10:29.450126Z",
     "shell.execute_reply.started": "2022-01-09T18:01:59.604036Z"
    },
    "papermill": {
     "duration": 0.046226,
     "end_time": "2022-01-09T18:10:29.451272",
     "exception": false,
     "start_time": "2022-01-09T18:10:29.405046",
     "status": "completed"
    },
    "tags": []
   },
   "outputs": [
    {
     "name": "stdout",
     "output_type": "stream",
     "text": [
      "7537\n"
     ]
    }
   ],
   "source": [
    "# Rank the predictions \n",
    "\n",
    "df_sub['score']  = scipy.stats.rankdata(df_sub['score'], method='ordinal')\n",
    "\n",
    "print(df_sub['score'].rank().nunique())"
   ]
  },
  {
   "cell_type": "code",
   "execution_count": 22,
   "id": "96173d26",
   "metadata": {
    "execution": {
     "iopub.execute_input": "2022-01-09T18:10:29.515189Z",
     "iopub.status.busy": "2022-01-09T18:10:29.514171Z",
     "iopub.status.idle": "2022-01-09T18:10:29.535969Z",
     "shell.execute_reply": "2022-01-09T18:10:29.536469Z",
     "shell.execute_reply.started": "2022-01-09T18:02:04.217121Z"
    },
    "papermill": {
     "duration": 0.057061,
     "end_time": "2022-01-09T18:10:29.536737",
     "exception": false,
     "start_time": "2022-01-09T18:10:29.479676",
     "status": "completed"
    },
    "tags": []
   },
   "outputs": [],
   "source": [
    "df_sub[['comment_id', 'score']].to_csv(\"submission.csv\", index=False)"
   ]
  },
  {
   "cell_type": "code",
   "execution_count": null,
   "id": "4b0de291",
   "metadata": {
    "papermill": {
     "duration": 0.026948,
     "end_time": "2022-01-09T18:10:29.591132",
     "exception": false,
     "start_time": "2022-01-09T18:10:29.564184",
     "status": "completed"
    },
    "tags": []
   },
   "outputs": [],
   "source": []
  }
 ],
 "metadata": {
  "kernelspec": {
   "display_name": "Python 3",
   "language": "python",
   "name": "python3"
  },
  "language_info": {
   "codemirror_mode": {
    "name": "ipython",
    "version": 3
   },
   "file_extension": ".py",
   "mimetype": "text/x-python",
   "name": "python",
   "nbconvert_exporter": "python",
   "pygments_lexer": "ipython3",
   "version": "3.7.10"
  },
  "papermill": {
   "default_parameters": {},
   "duration": 229.544085,
   "end_time": "2022-01-09T18:10:30.737189",
   "environment_variables": {},
   "exception": null,
   "input_path": "__notebook__.ipynb",
   "output_path": "__notebook__.ipynb",
   "parameters": {},
   "start_time": "2022-01-09T18:06:41.193104",
   "version": "2.3.3"
  }
 },
 "nbformat": 4,
 "nbformat_minor": 5
}
